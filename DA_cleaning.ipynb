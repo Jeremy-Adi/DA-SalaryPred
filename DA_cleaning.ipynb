{
 "cells": [
  {
   "cell_type": "code",
   "execution_count": null,
   "id": "024a5c66",
   "metadata": {},
   "outputs": [],
   "source": [
    "import pandas as pd\n",
    "import numpy as np\n",
    "import re"
   ]
  },
  {
   "cell_type": "code",
   "execution_count": null,
   "id": "19aca3d4",
   "metadata": {},
   "outputs": [],
   "source": [
    "df = pd.DataFrame(pd.read_excel(r'jobstreet_DA_data.xlsx')) #define the path of your file, and open as dataframe"
   ]
  },
  {
   "cell_type": "code",
   "execution_count": null,
   "id": "9ad35897",
   "metadata": {},
   "outputs": [],
   "source": [
    "df = df.drop('Unnamed: 0',axis=1) "
   ]
  },
  {
   "cell_type": "code",
   "execution_count": null,
   "id": "db48cdda",
   "metadata": {},
   "outputs": [],
   "source": [
    "# Only include rows that have certain word in \"Title\" column\n",
    "\n",
    "df = df[df['Title'].str.contains(r'data|analyst|scientist|developer|programmer|engineer|it|tech|system|analytics|python|tableau|analisis|business|intelligence|back|front', regex=True, case=False)]"
   ]
  },
  {
   "cell_type": "code",
   "execution_count": null,
   "id": "16aec735",
   "metadata": {},
   "outputs": [],
   "source": [
    "# Specify the uploaded date in new column\n",
    "\n",
    "df['Date Uploaded'] = df['Uploaded Time'].apply(lambda x: x.split('T')[0])"
   ]
  },
  {
   "cell_type": "code",
   "execution_count": null,
   "id": "e0893d64",
   "metadata": {},
   "outputs": [],
   "source": [
    "# Specify the uploaded time in new column\n",
    "\n",
    "df['Time'] = df['Uploaded Time'].apply(lambda x: x.split('T')[1].split('.')[0])"
   ]
  },
  {
   "cell_type": "code",
   "execution_count": null,
   "id": "3bc1fd33",
   "metadata": {},
   "outputs": [],
   "source": [
    "# Because this time we'll only analyze the entry-level, we need to get rid the data that need a manager as their job level\n",
    "# Let's first check the keyword that not related with entry-level\n",
    "\n",
    "df['Job Level'].unique()"
   ]
  },
  {
   "cell_type": "code",
   "execution_count": null,
   "id": "6d613909",
   "metadata": {},
   "outputs": [],
   "source": [
    "# We found that Koordinator, Manajer, and CEO are not related with entry-level position\n",
    "# Don't get rid of the \"Supervisor\" keyword, because there's another job-level related with entry-level that has \"supervisor\" in it\n",
    "\n",
    "df = df[~df['Job Level'].str.contains(r'koordinator|manajer|ceo', regex=True, case=False)]"
   ]
  },
  {
   "cell_type": "code",
   "execution_count": null,
   "id": "f3742c28",
   "metadata": {},
   "outputs": [],
   "source": [
    "df['Job Level'].unique()"
   ]
  },
  {
   "cell_type": "code",
   "execution_count": null,
   "id": "173674a9",
   "metadata": {},
   "outputs": [],
   "source": [
    "df.to_excel('DA_data_cleaned.xlsx')"
   ]
  }
 ],
 "metadata": {
  "kernelspec": {
   "display_name": "Python 3",
   "language": "python",
   "name": "python3"
  },
  "language_info": {
   "codemirror_mode": {
    "name": "ipython",
    "version": 3
   },
   "file_extension": ".py",
   "mimetype": "text/x-python",
   "name": "python",
   "nbconvert_exporter": "python",
   "pygments_lexer": "ipython3",
   "version": "3.7.7"
  }
 },
 "nbformat": 4,
 "nbformat_minor": 5
}
