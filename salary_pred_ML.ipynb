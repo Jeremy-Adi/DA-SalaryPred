{
  "nbformat": 4,
  "nbformat_minor": 0,
  "metadata": {
    "colab": {
      "name": "salary_pred_ML.ipynb",
      "provenance": [],
      "collapsed_sections": []
    },
    "kernelspec": {
      "name": "python3",
      "display_name": "Python 3"
    },
    "language_info": {
      "name": "python"
    }
  },
  "cells": [
    {
      "cell_type": "code",
      "metadata": {
        "id": "fW4E4VUpQOFs"
      },
      "source": [
        "import pandas as pd\n",
        "import numpy as np\n",
        "import matplotlib.pyplot as plt"
      ],
      "execution_count": 61,
      "outputs": []
    },
    {
      "cell_type": "code",
      "metadata": {
        "colab": {
          "base_uri": "https://localhost:8080/"
        },
        "id": "4F2IkqnVQsoV",
        "outputId": "3fd90836-bba4-4074-8b67-2a99cda4d82c"
      },
      "source": [
        "df = pd.read_excel('/content/Jobstreet_Data_EDA.xlsx')\n",
        "df.columns"
      ],
      "execution_count": 62,
      "outputs": [
        {
          "output_type": "execute_result",
          "data": {
            "text/plain": [
              "Index(['index', 'Title', 'Company', 'Location', 'Salary', 'Uploaded Time',\n",
              "       'Job Level', 'Qualification', 'Experience Years Needed', 'Job Type',\n",
              "       'Company Specialization', 'Company Scale', 'Processed Time', 'Benefit',\n",
              "       'Description', 'Link', 'Date Uploaded', 'Time', 'Data Job Type',\n",
              "       'Description Language', 'Province', 'Python', 'R', 'SQL', 'Tableau',\n",
              "       'Power_BI', 'Python Only', 'SQL Only', 'Tableau Only', 'Power BI Only',\n",
              "       'Python SQL Only', 'Python Tableau Only', 'Python Power BI Only',\n",
              "       'SQL Tableau Only', 'SQL Power BI Only', 'Python SQL Tableau',\n",
              "       'Python SQL Power BI', 'Day of Week', '24 Hours'],\n",
              "      dtype='object')"
            ]
          },
          "metadata": {
            "tags": []
          },
          "execution_count": 62
        }
      ]
    },
    {
      "cell_type": "code",
      "metadata": {
        "id": "dO5w6J0bQzYC"
      },
      "source": [
        "dataset = df[['Salary','Job Level','Qualification','Experience Years Needed','Company Specialization',\n",
        "              'Company Scale','Processed Time','Province','Python','SQL','Tableau','Power_BI']]\n",
        "dataset = dataset[~dataset['Salary'].str.contains('-1')]"
      ],
      "execution_count": 63,
      "outputs": []
    },
    {
      "cell_type": "code",
      "metadata": {
        "colab": {
          "base_uri": "https://localhost:8080/"
        },
        "id": "6ck-zvRZRnFH",
        "outputId": "a22ff53f-16b5-4a3f-b477-28ceb0ae3043"
      },
      "source": [
        "dataset['Salary'] = dataset['Salary'].apply(lambda x: x.replace('IDR ','').replace(' per bulan','').replace(' jt',''))\n",
        "dataset['Salary']"
      ],
      "execution_count": 64,
      "outputs": [
        {
          "output_type": "execute_result",
          "data": {
            "text/plain": [
              "2         8 - 10\n",
              "6        10 - 14\n",
              "7      4,8 - 5,5\n",
              "11       5,5 - 8\n",
              "15         5 - 7\n",
              "         ...    \n",
              "474      6,3 - 8\n",
              "476        5 - 7\n",
              "488       6 - 12\n",
              "494    4,5 - 6,3\n",
              "499        7 - 9\n",
              "Name: Salary, Length: 130, dtype: object"
            ]
          },
          "metadata": {
            "tags": []
          },
          "execution_count": 64
        }
      ]
    },
    {
      "cell_type": "code",
      "metadata": {
        "id": "U8PnLsViUfwT"
      },
      "source": [
        "dataset = dataset[~dataset['Salary'].str.contains('SGD')]"
      ],
      "execution_count": 65,
      "outputs": []
    },
    {
      "cell_type": "code",
      "metadata": {
        "id": "gMdJ6nvDSGoU"
      },
      "source": [
        "dataset['Min Salary Range'] = dataset['Salary'].apply(lambda x: x.replace(' ','').split('-')[0])\n",
        "dataset['Max Salary Range'] = dataset['Salary'].apply(lambda x: x.replace(' ','').split('-')[1])"
      ],
      "execution_count": 66,
      "outputs": []
    },
    {
      "cell_type": "code",
      "metadata": {
        "id": "g_3z-cRVTsNs"
      },
      "source": [
        "dataset['Min Salary Range'] = dataset['Min Salary Range'].apply(lambda x: x.replace(',','.'))\n",
        "dataset['Max Salary Range'] = dataset['Max Salary Range'].apply(lambda x: x.replace(',','.'))"
      ],
      "execution_count": 67,
      "outputs": []
    },
    {
      "cell_type": "code",
      "metadata": {
        "id": "d7wbfDr0TwQs"
      },
      "source": [
        "dataset['Min Salary Range'] = dataset['Min Salary Range'].astype(float)\n",
        "dataset['Max Salary Range'] = dataset['Max Salary Range'].astype(float)"
      ],
      "execution_count": 68,
      "outputs": []
    },
    {
      "cell_type": "code",
      "metadata": {
        "id": "rXaxXpCqUQ4J"
      },
      "source": [
        "dataset['Avg Salary'] = (dataset['Min Salary Range']+dataset['Max Salary Range'])/2"
      ],
      "execution_count": 69,
      "outputs": []
    },
    {
      "cell_type": "code",
      "metadata": {
        "id": "PKhMvn-1U7ZD"
      },
      "source": [
        "data_final = dataset[['Avg Salary','Processed Time','Job Level','Qualification','Experience Years Needed','Company Specialization',\n",
        "              'Company Scale','Province','Python','SQL','Tableau','Power_BI']]\n",
        "data_final = data_final.reset_index()\n",
        "data_final = data_final.drop(columns=['index'])"
      ],
      "execution_count": 70,
      "outputs": []
    },
    {
      "cell_type": "code",
      "metadata": {
        "id": "0CECs_L4VQWp"
      },
      "source": [
        "data_final = data_final[~data_final['Company Specialization'].str.contains('None')]\n",
        "data_final = data_final[~data_final['Processed Time'].str.contains('None')]"
      ],
      "execution_count": 71,
      "outputs": []
    },
    {
      "cell_type": "code",
      "metadata": {
        "colab": {
          "base_uri": "https://localhost:8080/",
          "height": 956
        },
        "id": "iqGtgYyDWKBO",
        "outputId": "311556da-19a5-4adc-e0e0-d742021eeb4f"
      },
      "source": [
        "data_final"
      ],
      "execution_count": 72,
      "outputs": [
        {
          "output_type": "execute_result",
          "data": {
            "text/html": [
              "<div>\n",
              "<style scoped>\n",
              "    .dataframe tbody tr th:only-of-type {\n",
              "        vertical-align: middle;\n",
              "    }\n",
              "\n",
              "    .dataframe tbody tr th {\n",
              "        vertical-align: top;\n",
              "    }\n",
              "\n",
              "    .dataframe thead th {\n",
              "        text-align: right;\n",
              "    }\n",
              "</style>\n",
              "<table border=\"1\" class=\"dataframe\">\n",
              "  <thead>\n",
              "    <tr style=\"text-align: right;\">\n",
              "      <th></th>\n",
              "      <th>Avg Salary</th>\n",
              "      <th>Processed Time</th>\n",
              "      <th>Job Level</th>\n",
              "      <th>Qualification</th>\n",
              "      <th>Experience Years Needed</th>\n",
              "      <th>Company Specialization</th>\n",
              "      <th>Company Scale</th>\n",
              "      <th>Province</th>\n",
              "      <th>Python</th>\n",
              "      <th>SQL</th>\n",
              "      <th>Tableau</th>\n",
              "      <th>Power_BI</th>\n",
              "    </tr>\n",
              "  </thead>\n",
              "  <tbody>\n",
              "    <tr>\n",
              "      <th>1</th>\n",
              "      <td>12.00</td>\n",
              "      <td>25 hari</td>\n",
              "      <td>Pegawai (non-manajemen &amp; non-supervisor)</td>\n",
              "      <td>Sertifikat Professional, D3 (Diploma), D4 (Dip...</td>\n",
              "      <td>3 tahun</td>\n",
              "      <td>Komputer/Teknologi Informasi, IT-Perangkat Lunak</td>\n",
              "      <td>201 - 500 pekerja</td>\n",
              "      <td>Jakarta Raya</td>\n",
              "      <td>0</td>\n",
              "      <td>0</td>\n",
              "      <td>0</td>\n",
              "      <td>0</td>\n",
              "    </tr>\n",
              "    <tr>\n",
              "      <th>6</th>\n",
              "      <td>6.00</td>\n",
              "      <td>29 hari</td>\n",
              "      <td>Pegawai (non-manajemen &amp; non-supervisor)</td>\n",
              "      <td>Sarjana (S1)</td>\n",
              "      <td>1 tahun</td>\n",
              "      <td>Komputer/Teknologi Informasi, IT-Perangkat Lunak</td>\n",
              "      <td>501 - 1000 pekerja</td>\n",
              "      <td>Jakarta Raya</td>\n",
              "      <td>0</td>\n",
              "      <td>1</td>\n",
              "      <td>0</td>\n",
              "      <td>0</td>\n",
              "    </tr>\n",
              "    <tr>\n",
              "      <th>7</th>\n",
              "      <td>5.75</td>\n",
              "      <td>10 hari</td>\n",
              "      <td>Pegawai (non-manajemen &amp; non-supervisor)</td>\n",
              "      <td>Sertifikat Professional, D3 (Diploma), D4 (Dip...</td>\n",
              "      <td>2 tahun</td>\n",
              "      <td>Komputer/Teknologi Informasi, IT-Perangkat Lunak</td>\n",
              "      <td>1- 50 pekerja</td>\n",
              "      <td>Jakarta Raya</td>\n",
              "      <td>0</td>\n",
              "      <td>0</td>\n",
              "      <td>0</td>\n",
              "      <td>0</td>\n",
              "    </tr>\n",
              "    <tr>\n",
              "      <th>8</th>\n",
              "      <td>11.00</td>\n",
              "      <td>1 hari</td>\n",
              "      <td>Pegawai (non-manajemen &amp; non-supervisor)</td>\n",
              "      <td>Diploma Pascasarjana, Gelar Professional, Magi...</td>\n",
              "      <td>2 tahun</td>\n",
              "      <td>Sains, Sains &amp; Teknologi</td>\n",
              "      <td>51 - 200 pekerja</td>\n",
              "      <td>Jakarta Raya</td>\n",
              "      <td>0</td>\n",
              "      <td>0</td>\n",
              "      <td>0</td>\n",
              "      <td>0</td>\n",
              "    </tr>\n",
              "    <tr>\n",
              "      <th>9</th>\n",
              "      <td>10.00</td>\n",
              "      <td>16 hari</td>\n",
              "      <td>Pegawai (non-manajemen &amp; non-supervisor)</td>\n",
              "      <td>Sarjana (S1), Diploma Pascasarjana, Gelar Prof...</td>\n",
              "      <td>3 tahun</td>\n",
              "      <td>Komputer/Teknologi Informasi, IT-Perangkat Lunak</td>\n",
              "      <td>1- 50 pekerja</td>\n",
              "      <td>Jakarta Raya</td>\n",
              "      <td>0</td>\n",
              "      <td>1</td>\n",
              "      <td>0</td>\n",
              "      <td>0</td>\n",
              "    </tr>\n",
              "    <tr>\n",
              "      <th>...</th>\n",
              "      <td>...</td>\n",
              "      <td>...</td>\n",
              "      <td>...</td>\n",
              "      <td>...</td>\n",
              "      <td>...</td>\n",
              "      <td>...</td>\n",
              "      <td>...</td>\n",
              "      <td>...</td>\n",
              "      <td>...</td>\n",
              "      <td>...</td>\n",
              "      <td>...</td>\n",
              "      <td>...</td>\n",
              "    </tr>\n",
              "    <tr>\n",
              "      <th>124</th>\n",
              "      <td>7.15</td>\n",
              "      <td>29 hari</td>\n",
              "      <td>Pegawai (non-manajemen &amp; non-supervisor)</td>\n",
              "      <td>Sarjana (S1), Diploma Pascasarjana, Gelar Prof...</td>\n",
              "      <td>2 tahun</td>\n",
              "      <td>Penjualan / Pemasaran, Pemasaran/Pengembangan ...</td>\n",
              "      <td>2001 - 5000 pekerja</td>\n",
              "      <td>Jakarta Raya</td>\n",
              "      <td>0</td>\n",
              "      <td>0</td>\n",
              "      <td>0</td>\n",
              "      <td>0</td>\n",
              "    </tr>\n",
              "    <tr>\n",
              "      <th>125</th>\n",
              "      <td>6.00</td>\n",
              "      <td>22 hari</td>\n",
              "      <td>Pegawai (non-manajemen &amp; non-supervisor)</td>\n",
              "      <td>Sertifikat Professional, D3 (Diploma), D4 (Dip...</td>\n",
              "      <td>2 tahun</td>\n",
              "      <td>Penjualan / Pemasaran, Penjualan - Teknik/Tekn...</td>\n",
              "      <td>1- 50 pekerja</td>\n",
              "      <td>Jakarta Raya</td>\n",
              "      <td>0</td>\n",
              "      <td>0</td>\n",
              "      <td>0</td>\n",
              "      <td>0</td>\n",
              "    </tr>\n",
              "    <tr>\n",
              "      <th>126</th>\n",
              "      <td>9.00</td>\n",
              "      <td>20 hari</td>\n",
              "      <td>Pegawai (non-manajemen &amp; non-supervisor)</td>\n",
              "      <td>Sarjana (S1)</td>\n",
              "      <td>1 tahun</td>\n",
              "      <td>Sains, Sains &amp; Teknologi</td>\n",
              "      <td>1- 50 pekerja</td>\n",
              "      <td>Jakarta Raya</td>\n",
              "      <td>1</td>\n",
              "      <td>0</td>\n",
              "      <td>0</td>\n",
              "      <td>0</td>\n",
              "    </tr>\n",
              "    <tr>\n",
              "      <th>127</th>\n",
              "      <td>5.40</td>\n",
              "      <td>17 hari</td>\n",
              "      <td>Pegawai (non-manajemen &amp; non-supervisor)</td>\n",
              "      <td>Sarjana (S1)</td>\n",
              "      <td>2 tahun</td>\n",
              "      <td>Lainnya, Jurnalis/Editor</td>\n",
              "      <td>201 - 500 pekerja</td>\n",
              "      <td>Jakarta Raya</td>\n",
              "      <td>0</td>\n",
              "      <td>0</td>\n",
              "      <td>0</td>\n",
              "      <td>0</td>\n",
              "    </tr>\n",
              "    <tr>\n",
              "      <th>128</th>\n",
              "      <td>8.00</td>\n",
              "      <td>10 hari</td>\n",
              "      <td>Pegawai (non-manajemen &amp; non-supervisor)</td>\n",
              "      <td>Tidak terspesifikasi</td>\n",
              "      <td>1 tahun</td>\n",
              "      <td>Pendidikan/Pelatihan, Pendidikan</td>\n",
              "      <td>51 - 200 pekerja</td>\n",
              "      <td>Banten</td>\n",
              "      <td>0</td>\n",
              "      <td>0</td>\n",
              "      <td>0</td>\n",
              "      <td>0</td>\n",
              "    </tr>\n",
              "  </tbody>\n",
              "</table>\n",
              "<p>97 rows × 12 columns</p>\n",
              "</div>"
            ],
            "text/plain": [
              "     Avg Salary Processed Time  ... Tableau Power_BI\n",
              "1         12.00        25 hari  ...       0        0\n",
              "6          6.00        29 hari  ...       0        0\n",
              "7          5.75        10 hari  ...       0        0\n",
              "8         11.00         1 hari  ...       0        0\n",
              "9         10.00        16 hari  ...       0        0\n",
              "..          ...            ...  ...     ...      ...\n",
              "124        7.15        29 hari  ...       0        0\n",
              "125        6.00        22 hari  ...       0        0\n",
              "126        9.00        20 hari  ...       0        0\n",
              "127        5.40        17 hari  ...       0        0\n",
              "128        8.00        10 hari  ...       0        0\n",
              "\n",
              "[97 rows x 12 columns]"
            ]
          },
          "metadata": {
            "tags": []
          },
          "execution_count": 72
        }
      ]
    },
    {
      "cell_type": "code",
      "metadata": {
        "colab": {
          "base_uri": "https://localhost:8080/"
        },
        "id": "i3ZAjCw0WzZ0",
        "outputId": "22ec9785-4d98-44d5-9490-ed259083b256"
      },
      "source": [
        "data_final['Processed Time'] = data_final['Processed Time'].apply(lambda x: x.replace(' hari','')).astype(int)\n",
        "data_final['Processed Time'].value_counts()"
      ],
      "execution_count": 73,
      "outputs": [
        {
          "output_type": "execute_result",
          "data": {
            "text/plain": [
              "29    13\n",
              "20     9\n",
              "27     7\n",
              "22     7\n",
              "10     7\n",
              "28     6\n",
              "1      5\n",
              "25     5\n",
              "16     5\n",
              "13     3\n",
              "6      3\n",
              "9      3\n",
              "21     3\n",
              "19     3\n",
              "17     3\n",
              "7      2\n",
              "30     2\n",
              "14     2\n",
              "15     2\n",
              "24     2\n",
              "23     1\n",
              "26     1\n",
              "4      1\n",
              "2      1\n",
              "18     1\n",
              "Name: Processed Time, dtype: int64"
            ]
          },
          "metadata": {
            "tags": []
          },
          "execution_count": 73
        }
      ]
    },
    {
      "cell_type": "code",
      "metadata": {
        "id": "PvEDhskKXdsy"
      },
      "source": [
        "# Convert day in processed time into week\n",
        "\n",
        "week = []\n",
        "first = np.arange(1,8)\n",
        "second = np.arange(8,15)\n",
        "third = np.arange(15,22)\n",
        "fourth = np.arange(22,32)\n",
        "first\n",
        "for time in data_final['Processed Time']:\n",
        "  if time in first:\n",
        "    week.append(1)\n",
        "  elif time in second:\n",
        "    week.append(2)\n",
        "  elif time in third:\n",
        "    week.append(3)\n",
        "  elif time in fourth:\n",
        "    week.append(4)"
      ],
      "execution_count": 74,
      "outputs": []
    },
    {
      "cell_type": "code",
      "metadata": {
        "id": "lKy-ZyyOYDiJ"
      },
      "source": [
        "data_final['Weeks Processed'] = week"
      ],
      "execution_count": 75,
      "outputs": []
    },
    {
      "cell_type": "code",
      "metadata": {
        "id": "rIh_uE-tNcDO"
      },
      "source": [
        "# Now drop the Processed Time column\n",
        "\n",
        "data_final = data_final.drop(columns=['Processed Time'])"
      ],
      "execution_count": 76,
      "outputs": []
    },
    {
      "cell_type": "code",
      "metadata": {
        "colab": {
          "base_uri": "https://localhost:8080/",
          "height": 1000
        },
        "id": "CYq22y78NpVa",
        "outputId": "f1a5af13-8153-43d9-fe43-9dd8dbf90648"
      },
      "source": [
        "data_final"
      ],
      "execution_count": 77,
      "outputs": [
        {
          "output_type": "execute_result",
          "data": {
            "text/html": [
              "<div>\n",
              "<style scoped>\n",
              "    .dataframe tbody tr th:only-of-type {\n",
              "        vertical-align: middle;\n",
              "    }\n",
              "\n",
              "    .dataframe tbody tr th {\n",
              "        vertical-align: top;\n",
              "    }\n",
              "\n",
              "    .dataframe thead th {\n",
              "        text-align: right;\n",
              "    }\n",
              "</style>\n",
              "<table border=\"1\" class=\"dataframe\">\n",
              "  <thead>\n",
              "    <tr style=\"text-align: right;\">\n",
              "      <th></th>\n",
              "      <th>Avg Salary</th>\n",
              "      <th>Job Level</th>\n",
              "      <th>Qualification</th>\n",
              "      <th>Experience Years Needed</th>\n",
              "      <th>Company Specialization</th>\n",
              "      <th>Company Scale</th>\n",
              "      <th>Province</th>\n",
              "      <th>Python</th>\n",
              "      <th>SQL</th>\n",
              "      <th>Tableau</th>\n",
              "      <th>Power_BI</th>\n",
              "      <th>Weeks Processed</th>\n",
              "    </tr>\n",
              "  </thead>\n",
              "  <tbody>\n",
              "    <tr>\n",
              "      <th>1</th>\n",
              "      <td>12.00</td>\n",
              "      <td>Pegawai (non-manajemen &amp; non-supervisor)</td>\n",
              "      <td>Sertifikat Professional, D3 (Diploma), D4 (Dip...</td>\n",
              "      <td>3 tahun</td>\n",
              "      <td>Komputer/Teknologi Informasi, IT-Perangkat Lunak</td>\n",
              "      <td>201 - 500 pekerja</td>\n",
              "      <td>Jakarta Raya</td>\n",
              "      <td>0</td>\n",
              "      <td>0</td>\n",
              "      <td>0</td>\n",
              "      <td>0</td>\n",
              "      <td>4</td>\n",
              "    </tr>\n",
              "    <tr>\n",
              "      <th>6</th>\n",
              "      <td>6.00</td>\n",
              "      <td>Pegawai (non-manajemen &amp; non-supervisor)</td>\n",
              "      <td>Sarjana (S1)</td>\n",
              "      <td>1 tahun</td>\n",
              "      <td>Komputer/Teknologi Informasi, IT-Perangkat Lunak</td>\n",
              "      <td>501 - 1000 pekerja</td>\n",
              "      <td>Jakarta Raya</td>\n",
              "      <td>0</td>\n",
              "      <td>1</td>\n",
              "      <td>0</td>\n",
              "      <td>0</td>\n",
              "      <td>4</td>\n",
              "    </tr>\n",
              "    <tr>\n",
              "      <th>7</th>\n",
              "      <td>5.75</td>\n",
              "      <td>Pegawai (non-manajemen &amp; non-supervisor)</td>\n",
              "      <td>Sertifikat Professional, D3 (Diploma), D4 (Dip...</td>\n",
              "      <td>2 tahun</td>\n",
              "      <td>Komputer/Teknologi Informasi, IT-Perangkat Lunak</td>\n",
              "      <td>1- 50 pekerja</td>\n",
              "      <td>Jakarta Raya</td>\n",
              "      <td>0</td>\n",
              "      <td>0</td>\n",
              "      <td>0</td>\n",
              "      <td>0</td>\n",
              "      <td>2</td>\n",
              "    </tr>\n",
              "    <tr>\n",
              "      <th>8</th>\n",
              "      <td>11.00</td>\n",
              "      <td>Pegawai (non-manajemen &amp; non-supervisor)</td>\n",
              "      <td>Diploma Pascasarjana, Gelar Professional, Magi...</td>\n",
              "      <td>2 tahun</td>\n",
              "      <td>Sains, Sains &amp; Teknologi</td>\n",
              "      <td>51 - 200 pekerja</td>\n",
              "      <td>Jakarta Raya</td>\n",
              "      <td>0</td>\n",
              "      <td>0</td>\n",
              "      <td>0</td>\n",
              "      <td>0</td>\n",
              "      <td>1</td>\n",
              "    </tr>\n",
              "    <tr>\n",
              "      <th>9</th>\n",
              "      <td>10.00</td>\n",
              "      <td>Pegawai (non-manajemen &amp; non-supervisor)</td>\n",
              "      <td>Sarjana (S1), Diploma Pascasarjana, Gelar Prof...</td>\n",
              "      <td>3 tahun</td>\n",
              "      <td>Komputer/Teknologi Informasi, IT-Perangkat Lunak</td>\n",
              "      <td>1- 50 pekerja</td>\n",
              "      <td>Jakarta Raya</td>\n",
              "      <td>0</td>\n",
              "      <td>1</td>\n",
              "      <td>0</td>\n",
              "      <td>0</td>\n",
              "      <td>3</td>\n",
              "    </tr>\n",
              "    <tr>\n",
              "      <th>...</th>\n",
              "      <td>...</td>\n",
              "      <td>...</td>\n",
              "      <td>...</td>\n",
              "      <td>...</td>\n",
              "      <td>...</td>\n",
              "      <td>...</td>\n",
              "      <td>...</td>\n",
              "      <td>...</td>\n",
              "      <td>...</td>\n",
              "      <td>...</td>\n",
              "      <td>...</td>\n",
              "      <td>...</td>\n",
              "    </tr>\n",
              "    <tr>\n",
              "      <th>124</th>\n",
              "      <td>7.15</td>\n",
              "      <td>Pegawai (non-manajemen &amp; non-supervisor)</td>\n",
              "      <td>Sarjana (S1), Diploma Pascasarjana, Gelar Prof...</td>\n",
              "      <td>2 tahun</td>\n",
              "      <td>Penjualan / Pemasaran, Pemasaran/Pengembangan ...</td>\n",
              "      <td>2001 - 5000 pekerja</td>\n",
              "      <td>Jakarta Raya</td>\n",
              "      <td>0</td>\n",
              "      <td>0</td>\n",
              "      <td>0</td>\n",
              "      <td>0</td>\n",
              "      <td>4</td>\n",
              "    </tr>\n",
              "    <tr>\n",
              "      <th>125</th>\n",
              "      <td>6.00</td>\n",
              "      <td>Pegawai (non-manajemen &amp; non-supervisor)</td>\n",
              "      <td>Sertifikat Professional, D3 (Diploma), D4 (Dip...</td>\n",
              "      <td>2 tahun</td>\n",
              "      <td>Penjualan / Pemasaran, Penjualan - Teknik/Tekn...</td>\n",
              "      <td>1- 50 pekerja</td>\n",
              "      <td>Jakarta Raya</td>\n",
              "      <td>0</td>\n",
              "      <td>0</td>\n",
              "      <td>0</td>\n",
              "      <td>0</td>\n",
              "      <td>4</td>\n",
              "    </tr>\n",
              "    <tr>\n",
              "      <th>126</th>\n",
              "      <td>9.00</td>\n",
              "      <td>Pegawai (non-manajemen &amp; non-supervisor)</td>\n",
              "      <td>Sarjana (S1)</td>\n",
              "      <td>1 tahun</td>\n",
              "      <td>Sains, Sains &amp; Teknologi</td>\n",
              "      <td>1- 50 pekerja</td>\n",
              "      <td>Jakarta Raya</td>\n",
              "      <td>1</td>\n",
              "      <td>0</td>\n",
              "      <td>0</td>\n",
              "      <td>0</td>\n",
              "      <td>3</td>\n",
              "    </tr>\n",
              "    <tr>\n",
              "      <th>127</th>\n",
              "      <td>5.40</td>\n",
              "      <td>Pegawai (non-manajemen &amp; non-supervisor)</td>\n",
              "      <td>Sarjana (S1)</td>\n",
              "      <td>2 tahun</td>\n",
              "      <td>Lainnya, Jurnalis/Editor</td>\n",
              "      <td>201 - 500 pekerja</td>\n",
              "      <td>Jakarta Raya</td>\n",
              "      <td>0</td>\n",
              "      <td>0</td>\n",
              "      <td>0</td>\n",
              "      <td>0</td>\n",
              "      <td>3</td>\n",
              "    </tr>\n",
              "    <tr>\n",
              "      <th>128</th>\n",
              "      <td>8.00</td>\n",
              "      <td>Pegawai (non-manajemen &amp; non-supervisor)</td>\n",
              "      <td>Tidak terspesifikasi</td>\n",
              "      <td>1 tahun</td>\n",
              "      <td>Pendidikan/Pelatihan, Pendidikan</td>\n",
              "      <td>51 - 200 pekerja</td>\n",
              "      <td>Banten</td>\n",
              "      <td>0</td>\n",
              "      <td>0</td>\n",
              "      <td>0</td>\n",
              "      <td>0</td>\n",
              "      <td>2</td>\n",
              "    </tr>\n",
              "  </tbody>\n",
              "</table>\n",
              "<p>97 rows × 12 columns</p>\n",
              "</div>"
            ],
            "text/plain": [
              "     Avg Salary  ... Weeks Processed\n",
              "1         12.00  ...               4\n",
              "6          6.00  ...               4\n",
              "7          5.75  ...               2\n",
              "8         11.00  ...               1\n",
              "9         10.00  ...               3\n",
              "..          ...  ...             ...\n",
              "124        7.15  ...               4\n",
              "125        6.00  ...               4\n",
              "126        9.00  ...               3\n",
              "127        5.40  ...               3\n",
              "128        8.00  ...               2\n",
              "\n",
              "[97 rows x 12 columns]"
            ]
          },
          "metadata": {
            "tags": []
          },
          "execution_count": 77
        }
      ]
    },
    {
      "cell_type": "code",
      "metadata": {
        "colab": {
          "base_uri": "https://localhost:8080/"
        },
        "id": "Z82x4BkqNqm8",
        "outputId": "25e7ff55-10f3-4c83-fec2-05ff8569c1b1"
      },
      "source": [
        "data_final.columns"
      ],
      "execution_count": 78,
      "outputs": [
        {
          "output_type": "execute_result",
          "data": {
            "text/plain": [
              "Index(['Avg Salary', 'Job Level', 'Qualification', 'Experience Years Needed',\n",
              "       'Company Specialization', 'Company Scale', 'Province', 'Python', 'SQL',\n",
              "       'Tableau', 'Power_BI', 'Weeks Processed'],\n",
              "      dtype='object')"
            ]
          },
          "metadata": {
            "tags": []
          },
          "execution_count": 78
        }
      ]
    },
    {
      "cell_type": "code",
      "metadata": {
        "id": "Z3I-ypsIP_dz"
      },
      "source": [
        "data_final = data_final[~data_final['Company Scale'].str.contains('None')]"
      ],
      "execution_count": 79,
      "outputs": []
    },
    {
      "cell_type": "code",
      "metadata": {
        "colab": {
          "base_uri": "https://localhost:8080/"
        },
        "id": "s5ibB7ldRQdk",
        "outputId": "791fbe40-e87f-49fd-8467-f2cb7549f1b1"
      },
      "source": [
        "# Done, now we're ready for prediction\n",
        "\n",
        "data_final_dum = pd.get_dummies(data_final)\n",
        "\n",
        "from sklearn.model_selection import train_test_split\n",
        "\n",
        "X = data_final_dum.drop('Avg Salary',axis=1)\n",
        "y = data_final_dum['Avg Salary'].values\n",
        "\n",
        "X_train, X_test, y_train, y_test = train_test_split(X, y, test_size=0.15, random_state=42)\n",
        "\n",
        "type(y)"
      ],
      "execution_count": 85,
      "outputs": [
        {
          "output_type": "execute_result",
          "data": {
            "text/plain": [
              "numpy.ndarray"
            ]
          },
          "metadata": {
            "tags": []
          },
          "execution_count": 85
        }
      ]
    },
    {
      "cell_type": "code",
      "metadata": {
        "colab": {
          "base_uri": "https://localhost:8080/"
        },
        "id": "Mz61AIwDYm1H",
        "outputId": "f9845086-5fd9-45cb-fdad-2299c8d94d7a"
      },
      "source": [
        "# Random Forest\n",
        "\n",
        "from sklearn.ensemble import RandomForestRegressor\n",
        "from sklearn.model_selection import cross_val_score\n",
        "\n",
        "rf = RandomForestRegressor()\n",
        "\n",
        "np.mean(cross_val_score(rf, X_train,y_train,scoring='neg_mean_absolute_error',cv=3))"
      ],
      "execution_count": 88,
      "outputs": [
        {
          "output_type": "execute_result",
          "data": {
            "text/plain": [
              "-1.8400961538461533"
            ]
          },
          "metadata": {
            "tags": []
          },
          "execution_count": 88
        }
      ]
    },
    {
      "cell_type": "code",
      "metadata": {
        "colab": {
          "base_uri": "https://localhost:8080/"
        },
        "id": "qsimSvZ1bgpP",
        "outputId": "24cf8fbc-25fd-49f8-c826-c66299e192da"
      },
      "source": [
        "# Tuning\n",
        "\n",
        "from sklearn.model_selection import GridSearchCV\n",
        "\n",
        "parameters = {'n_estimators':np.arange(1,301,10), 'criterion':('mse','mae'), 'max_features':('auto', 'sqrt', 'log2'), 'min_samples_split':np.arange(2,11,1)}\n",
        "gs = GridSearchCV(rf, parameters, scoring='neg_mean_absolute_error',cv=3)\n",
        "gs.fit(X_train,y_train)"
      ],
      "execution_count": 100,
      "outputs": [
        {
          "output_type": "execute_result",
          "data": {
            "text/plain": [
              "GridSearchCV(cv=3, error_score=nan,\n",
              "             estimator=RandomForestRegressor(bootstrap=True, ccp_alpha=0.0,\n",
              "                                             criterion='mse', max_depth=None,\n",
              "                                             max_features='auto',\n",
              "                                             max_leaf_nodes=None,\n",
              "                                             max_samples=None,\n",
              "                                             min_impurity_decrease=0.0,\n",
              "                                             min_impurity_split=None,\n",
              "                                             min_samples_leaf=1,\n",
              "                                             min_samples_split=2,\n",
              "                                             min_weight_fraction_leaf=0.0,\n",
              "                                             n_estimators=100, n_jobs=None,\n",
              "                                             oob_score=False, rand...\n",
              "             param_grid={'criterion': ('mse', 'mae'),\n",
              "                         'max_features': ('auto', 'sqrt', 'log2'),\n",
              "                         'min_samples_split': array([ 2,  3,  4,  5,  6,  7,  8,  9, 10]),\n",
              "                         'n_estimators': array([  1,  11,  21,  31,  41,  51,  61,  71,  81,  91, 101, 111, 121,\n",
              "       131, 141, 151, 161, 171, 181, 191, 201, 211, 221, 231, 241, 251,\n",
              "       261, 271, 281, 291])},\n",
              "             pre_dispatch='2*n_jobs', refit=True, return_train_score=False,\n",
              "             scoring='neg_mean_absolute_error', verbose=0)"
            ]
          },
          "metadata": {
            "tags": []
          },
          "execution_count": 100
        }
      ]
    },
    {
      "cell_type": "code",
      "metadata": {
        "colab": {
          "base_uri": "https://localhost:8080/"
        },
        "id": "FeWvqH8-jAlk",
        "outputId": "743a14d4-0b8c-460a-febe-52a6fb82783e"
      },
      "source": [
        "gs.best_score_"
      ],
      "execution_count": 101,
      "outputs": [
        {
          "output_type": "execute_result",
          "data": {
            "text/plain": [
              "-1.6740231990231988"
            ]
          },
          "metadata": {
            "tags": []
          },
          "execution_count": 101
        }
      ]
    },
    {
      "cell_type": "code",
      "metadata": {
        "colab": {
          "base_uri": "https://localhost:8080/"
        },
        "id": "T4s2CNs9rABD",
        "outputId": "b523e12f-9f46-42dd-b652-7b371dfb1d86"
      },
      "source": [
        "gs.best_estimator_"
      ],
      "execution_count": 102,
      "outputs": [
        {
          "output_type": "execute_result",
          "data": {
            "text/plain": [
              "RandomForestRegressor(bootstrap=True, ccp_alpha=0.0, criterion='mse',\n",
              "                      max_depth=None, max_features='sqrt', max_leaf_nodes=None,\n",
              "                      max_samples=None, min_impurity_decrease=0.0,\n",
              "                      min_impurity_split=None, min_samples_leaf=1,\n",
              "                      min_samples_split=2, min_weight_fraction_leaf=0.0,\n",
              "                      n_estimators=21, n_jobs=None, oob_score=False,\n",
              "                      random_state=None, verbose=0, warm_start=False)"
            ]
          },
          "metadata": {
            "tags": []
          },
          "execution_count": 102
        }
      ]
    },
    {
      "cell_type": "code",
      "metadata": {
        "colab": {
          "base_uri": "https://localhost:8080/"
        },
        "id": "_xHION3DrEw2",
        "outputId": "e3361da4-eb2b-4511-ae4d-860ec812b174"
      },
      "source": [
        "pred = gs.best_estimator_.predict(X_test)\n",
        "np.mean(pred)"
      ],
      "execution_count": 106,
      "outputs": [
        {
          "output_type": "execute_result",
          "data": {
            "text/plain": [
              "7.04563492063492"
            ]
          },
          "metadata": {
            "tags": []
          },
          "execution_count": 106
        }
      ]
    }
  ]
}